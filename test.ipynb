{
 "cells": [
  {
   "cell_type": "code",
   "execution_count": 1,
   "metadata": {
    "collapsed": true
   },
   "outputs": [],
   "source": [
    "import pickle"
   ]
  },
  {
   "cell_type": "code",
   "execution_count": 7,
   "metadata": {
    "collapsed": false
   },
   "outputs": [],
   "source": [
    "gender_classifier = pickle.load(open('gender_classifier.pkl', 'r'))\n",
    "religion_classifier = pickle.load(open('religion_classifier.pkl', 'r'))\n",
    "ethnicity_classifier_last_name = pickle.load(open('ethnicity_classifier_last_name.pkl', 'r'))\n",
    "ethnicity_classifier_first_name = pickle.load(open('ethnicity_classifier_first_name.pkl', 'r'))"
   ]
  },
  {
   "cell_type": "code",
   "execution_count": 8,
   "metadata": {
    "collapsed": true
   },
   "outputs": [],
   "source": [
    "def gender_features(name):\n",
    "    name = name.lower()\n",
    "    first_name = name.split()[0]\n",
    "    last_name = name.split()[-1]\n",
    "    \n",
    "    first_name_first = first_name[0]\n",
    "    first_name_first_two = first_name[:2] if len(first_name) > 1 else None\n",
    "    first_name_first_three = first_name[:3] if len(first_name) > 2 else None\n",
    "    first_name_first_four = first_name[:4] if len(first_name) > 3 else None\n",
    "    first_name_first_five = first_name[:5] if len(first_name) > 4 else None\n",
    "    \n",
    "    first_name_last = first_name[-1]\n",
    "    first_name_last_two = first_name[-2:] if len(first_name) > 1 else None\n",
    "    first_name_last_three = first_name[-3:] if len(first_name) > 2 else None\n",
    "    first_name_last_four = first_name[-4:] if len(first_name) > 3 else None\n",
    "    first_name_last_five = first_name[-5:] if len(first_name) > 4 else None\n",
    "    \n",
    "    if first_name != last_name:\n",
    "        last_name_first = last_name[0]\n",
    "        last_name_first_two = last_name[:2] if len(last_name) > 1 else None\n",
    "        last_name_first_three = last_name[:3] if len(last_name) > 2 else None\n",
    "        last_name_first_four = last_name[:4] if len(last_name) > 3 else None\n",
    "        last_name_first_five = last_name[:5] if len(last_name) > 4 else None\n",
    "        \n",
    "        last_name_last = last_name[-1]\n",
    "        last_name_last_two = last_name[-2:] if len(last_name) > 1 else None\n",
    "        last_name_last_three = last_name[-3:] if len(last_name) > 2 else None\n",
    "        last_name_last_four = last_name[-4:] if len(last_name) > 3 else None\n",
    "        last_name_last_five = last_name[-5:] if len(last_name) > 4 else None\n",
    "    else:\n",
    "        last_name_first = None\n",
    "        last_name_first_two = None\n",
    "        last_name_first_three = None\n",
    "        last_name_first_four = None\n",
    "        last_name_first_five = None\n",
    "        \n",
    "        last_name_last = None\n",
    "        last_name_last_two = None\n",
    "        last_name_last_three = None\n",
    "        last_name_last_four = None\n",
    "        last_name_last_five = None\n",
    "    \n",
    "    features = {'first_name_first': first_name_first, 'first_name_first_two': first_name_first_two,\n",
    "                'first_name_first_three': first_name_first_three, 'first_name_first_four': first_name_first_four,\n",
    "                'first_name_first_five': first_name_first_five,\n",
    "                'first_name_last': first_name_last, 'first_name_last_two': first_name_last_two,\n",
    "                'first_name_last_three': first_name_last_three, 'first_name_last_four': first_name_last_four,\n",
    "                'first_name_last_five': first_name_last_five,\n",
    "                'last_name_first': last_name_first, 'last_name_first_two': last_name_first_two,\n",
    "                'last_name_first_three': last_name_first_three, 'last_name_first_four': last_name_first_four,\n",
    "                'last_name_last_five': last_name_first_five,\n",
    "                'last_name_last': last_name_last, 'last_name_last_two': last_name_last_two,\n",
    "                'last_name_last_three': last_name_last_three, 'last_name_last_four': last_name_last_four,\n",
    "                'last_name_last_five': last_name_last_five}\n",
    "    \n",
    "    return features"
   ]
  },
  {
   "cell_type": "code",
   "execution_count": 4,
   "metadata": {
    "collapsed": true
   },
   "outputs": [],
   "source": [
    "#Note: These are useful for distinguishing between Muslim, Christian and Hindu names, but not for Hindu/Sikh/Jain/Buddhist names\n",
    "def religion_features(name):\n",
    "    name = name.lower()\n",
    "    first_name = name.split()[0]\n",
    "    last_name = name[len(first_name):].lstrip().rstrip()\n",
    "    \n",
    "    first_name_first = first_name[0]\n",
    "    first_name_first_two = first_name[:2] if len(first_name) > 1 else None\n",
    "    first_name_first_three = first_name[:3] if len(first_name) > 2 else None\n",
    "    first_name_first_four = first_name[:4] if len(first_name) > 3 else None\n",
    "    \n",
    "    first_name_last = first_name[-1]\n",
    "    first_name_last_two = first_name[-2:] if len(first_name) > 1 else None\n",
    "    first_name_last_three = first_name[-3:] if len(first_name) > 2 else None\n",
    "    first_name_last_four = first_name[-4:] if len(first_name) > 3 else None\n",
    "    \n",
    "    if first_name != last_name and len(last_name) > 0:\n",
    "        last_name_first = last_name[0]\n",
    "        last_name_first_two = last_name[:2] if len(last_name) > 1 else None\n",
    "        last_name_first_three = last_name[:3] if len(last_name) > 2 else None\n",
    "        last_name_first_four = last_name[:4] if len(last_name) > 3 else None\n",
    "        \n",
    "        last_name_last = last_name[-1]\n",
    "        last_name_last_two = last_name[-2:] if len(last_name) > 1 else None\n",
    "        last_name_last_three = last_name[-3:] if len(last_name) > 2 else None\n",
    "        last_name_last_four = last_name[-4:] if len(last_name) > 3 else None\n",
    "    else:\n",
    "        last_name_first = None\n",
    "        last_name_first_two = None\n",
    "        last_name_first_three = None\n",
    "        last_name_first_four = None\n",
    "        \n",
    "        last_name_last = None\n",
    "        last_name_last_two = None\n",
    "        last_name_last_three = None\n",
    "        last_name_last_four = None\n",
    "    \n",
    "    features = {'prop_%s'%i: 1.*name.count(i)/len(name) for i in 'abcdefghijklmnopqrstuvwxyz'}\n",
    "    features.update({'first_name_first': first_name_first, 'first_name_first_two': first_name_first_two,'first_name_first_three': first_name_first_three, 'first_name_first_four': first_name_first_four,\n",
    "               'first_name_last': first_name_last, 'first_name_last_two': first_name_last_two,\n",
    "               'first_name_last_three': first_name_last_three, 'first_name_last_four': first_name_last_four,\n",
    "               'last_name_first': last_name_first, 'last_name_first_two': last_name_first_two,\n",
    "               'last_name_first_three': last_name_first_three, 'last_name_first_four': last_name_first_four,\n",
    "               'last_name_last': last_name_last, 'last_name_last_two': last_name_last_two,\n",
    "               'last_name_last_three': last_name_last_three, 'last_name_last_four': last_name_last_four\n",
    "               })\n",
    "    \n",
    "    return features"
   ]
  },
  {
   "cell_type": "code",
   "execution_count": 9,
   "metadata": {
    "collapsed": true
   },
   "outputs": [],
   "source": [
    "def ethnicity_features(name, kind='last'):\n",
    "    if kind == 'last':\n",
    "        if name is not None:\n",
    "            name = name.split()[-1]\n",
    "        else:\n",
    "            return {'name_first': None, 'name_first_two': None, 'name_first_three': None, 'name_first_four': None,\n",
    "                'name_last': None, 'name_last_two': None, 'name_last_three': None, 'name_last_four': None,\n",
    "                'len_name': 0}\n",
    "    elif kind == 'first':\n",
    "        name = name.split()[0]\n",
    "    name = name.lower()\n",
    "    \n",
    "    name_first = name[0]\n",
    "    name_first_two = name[:2]# if len(name) > 1 else None\n",
    "    name_first_three = name[:3]# if len(name) > 2 else None\n",
    "    name_first_four = name[:4]# if len(name) > 3 else None\n",
    "\n",
    "    name_last = name[-1]\n",
    "    name_last_two = name[-2:]# if len(name) > 1 else None\n",
    "    name_last_three = name[-3:]# if len(name) > 2 else None\n",
    "    name_last_four = name[-4:]# if len(name) > 3 else None\n",
    "    \n",
    "    features = {'name_first': name_first, 'name_first_two': name_first_two,\n",
    "                'name_first_three': name_first_three, 'name_first_four': name_first_four,\n",
    "                'name_last': name_last, 'name_last_two': name_last_two,\n",
    "                'name_last_three': name_last_three, 'name_last_four': name_last_four,\n",
    "                'len_name': len(name)}\n",
    "    \n",
    "    return features"
   ]
  },
  {
   "cell_type": "code",
   "execution_count": 10,
   "metadata": {
    "collapsed": true
   },
   "outputs": [],
   "source": [
    "def get_likely_ethnicity(f, l, confounding_surname=False):\n",
    "    max_l = max(l, key=l.get)\n",
    "    max_f = max(f, key=f.get)\n",
    "    if not confounding_surname:\n",
    "        comb = {i: 0.35*f[i] + 0.65*l[i] for i in f}\n",
    "    else:\n",
    "        comb = {i: 0.65*f[i] + 0.35*l[i] for i in f}\n",
    "    max_comb = max(comb.values())\n",
    "    if max_comb > 0.8:\n",
    "        conf = 'Confident'\n",
    "    elif max_comb > 0.5:\n",
    "        conf = 'Somewhat Confident'\n",
    "    else:\n",
    "        conf = 'Not Confident'\n",
    "    if max(l.values()) > 0.98 and not confounding_surname:\n",
    "        return max_l, comb, 'Very Confident'\n",
    "    else:\n",
    "        if max_l == max_f:\n",
    "            return max_l, comb, conf\n",
    "        else:\n",
    "            return max(comb, key=comb.get), comb, conf"
   ]
  },
  {
   "cell_type": "code",
   "execution_count": 16,
   "metadata": {
    "collapsed": false
   },
   "outputs": [
    {
     "name": "stdout",
     "output_type": "stream",
     "text": [
      "Gender: {'male': 0.9993381823298512, 'female': 0.0006618176701493388}\n",
      "Religion: {'Hindu': 8.197876035381362e-10, u'Muslim': 0.9999999964810308, u'Christian': 2.6991764240929053e-09}\n",
      "Ethnicity: North Indian Confidence: Not Confident\n"
     ]
    }
   ],
   "source": [
    "name = 'Ansar Kadri'\n",
    "\n",
    "gender = gender_classifier.prob_classify(gender_features(name)).__dict__['_prob_dict']\n",
    "print 'Gender:', {i: 2**gender[i] for i in gender}\n",
    "\n",
    "religion = religion_classifier.prob_classify(religion_features(name)).__dict__['_prob_dict']\n",
    "print 'Religion:', {i: 2**religion[i] for i in religion}\n",
    "\n",
    "d = ethnicity_classifier_first_name.prob_classify(ethnicity_features(name, kind='first')).__dict__['_prob_dict']\n",
    "first_name_stats = {i: 2**d[i] for i in d}\n",
    "\n",
    "d = ethnicity_classifier_last_name.prob_classify(ethnicity_features(name, kind='last')).__dict__['_prob_dict']\n",
    "last_name_stats = {i: 2**d[i] for i in d}\n",
    "\n",
    "is_counfounding = {'Kumar', 'Singh'}\n",
    "likely_ethnicity, comb_prob, conf = get_likely_ethnicity(first_name_stats, last_name_stats, \n",
    "                                                         confounding_surname = name.split()[-1] in is_counfounding)\n",
    "print 'Ethnicity:', likely_ethnicity, 'Confidence:', conf"
   ]
  },
  {
   "cell_type": "code",
   "execution_count": null,
   "metadata": {
    "collapsed": true
   },
   "outputs": [],
   "source": []
  }
 ],
 "metadata": {
  "kernelspec": {
   "display_name": "Python 2",
   "language": "python",
   "name": "python2"
  },
  "language_info": {
   "codemirror_mode": {
    "name": "ipython",
    "version": 2
   },
   "file_extension": ".py",
   "mimetype": "text/x-python",
   "name": "python",
   "nbconvert_exporter": "python",
   "pygments_lexer": "ipython2",
   "version": "2.7.9"
  }
 },
 "nbformat": 4,
 "nbformat_minor": 0
}
