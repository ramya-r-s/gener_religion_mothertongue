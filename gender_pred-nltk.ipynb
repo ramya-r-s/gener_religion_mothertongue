{
 "cells": [
  {
   "cell_type": "markdown",
   "metadata": {},
   "source": [
    "# Name Classification"
   ]
  },
  {
   "cell_type": "markdown",
   "metadata": {},
   "source": [
    "### Objective"
   ]
  },
  {
   "cell_type": "markdown",
   "metadata": {},
   "source": [
    "To develop a Machine Learning algorithm that classifies name strings of Indian names into the right gender, religion, and ethnicity."
   ]
  },
  {
   "cell_type": "markdown",
   "metadata": {},
   "source": [
    "Setting up dependencies"
   ]
  },
  {
   "cell_type": "code",
   "execution_count": 1,
   "metadata": {
    "collapsed": true
   },
   "outputs": [],
   "source": [
    "import pandas as pd\n",
    "import nltk\n",
    "import random"
   ]
  },
  {
   "cell_type": "markdown",
   "metadata": {},
   "source": [
    "### Gender Classification"
   ]
  },
  {
   "cell_type": "markdown",
   "metadata": {},
   "source": [
    "Loading the CBSE results file for gender classification"
   ]
  },
  {
   "cell_type": "code",
   "execution_count": 4,
   "metadata": {
    "collapsed": false
   },
   "outputs": [],
   "source": [
    "df = pd.read_csv('training_data/results_2015.csv')\n",
    "df = df[['name', 'father_name', 'mother_name', 'first_name', 'last_name']]"
   ]
  },
  {
   "cell_type": "code",
   "execution_count": 5,
   "metadata": {
    "collapsed": false
   },
   "outputs": [],
   "source": [
    "df['father_first_name'] = df['father_name'].apply(lambda x: x.split()[0] if pd.notnull(x) else None)\n",
    "df['father_last_name'] = df['father_name'].apply(lambda x: x.split()[-1] if pd.notnull(x) and len(x.split()) > 1 else None)"
   ]
  },
  {
   "cell_type": "code",
   "execution_count": 6,
   "metadata": {
    "collapsed": false
   },
   "outputs": [],
   "source": [
    "df['mother_first_name'] = df['mother_name'].apply(lambda x: x.split()[0] if pd.notnull(x) else None)\n",
    "df['mother_last_name'] = df['mother_name'].apply(lambda x: x.split()[-1] if pd.notnull(x) and len(x.split()) > 1 else None)"
   ]
  },
  {
   "cell_type": "code",
   "execution_count": 7,
   "metadata": {
    "collapsed": false
   },
   "outputs": [],
   "source": [
    "male_first_names = df.father_first_name.value_counts()\n",
    "male_first_names.name = 'male_count'\n",
    "female_first_names = df.mother_first_name.value_counts()\n",
    "female_first_names.name = 'female_count'\n",
    "first_names = pd.concat([male_first_names, female_first_names], axis=1).fillna(0)\n",
    "first_names['total_count'] = first_names['male_count'] + first_names['female_count']\n",
    "first_names['male_prop'] = 1.*first_names['male_count']/first_names['total_count']\n",
    "del male_first_names\n",
    "del female_first_names"
   ]
  },
  {
   "cell_type": "code",
   "execution_count": 8,
   "metadata": {
    "collapsed": false
   },
   "outputs": [],
   "source": [
    "male_last_names = df.father_last_name.value_counts()\n",
    "male_last_names.name = 'male_count'\n",
    "female_last_names = df.mother_last_name.value_counts()\n",
    "female_last_names.name = 'female_count'\n",
    "last_names = pd.concat([male_last_names, female_last_names], axis=1).fillna(0)\n",
    "last_names['total_count'] = last_names['male_count'] + last_names['female_count']\n",
    "last_names['male_prop'] = 1.*last_names['male_count']/last_names['total_count']\n",
    "del male_last_names\n",
    "del female_last_names"
   ]
  },
  {
   "cell_type": "code",
   "execution_count": 9,
   "metadata": {
    "collapsed": false
   },
   "outputs": [],
   "source": [
    "father_names = pd.DataFrame(df.father_name.values)\n",
    "father_names['gender'] = 'male'\n",
    "mother_names = pd.DataFrame(df.mother_name.values)\n",
    "mother_names['gender'] = 'female'\n",
    "labeled_names = father_names.append(mother_names).reset_index(drop=True)\n",
    "labeled_names.columns = ['name', 'gender']"
   ]
  },
  {
   "cell_type": "code",
   "execution_count": 10,
   "metadata": {
    "collapsed": false
   },
   "outputs": [],
   "source": [
    "labeled_names = labeled_names[labeled_names.name.notnull()]\n",
    "labeled_names['first_name'] = labeled_names['name'].apply(lambda x: x.split()[0])\n",
    "labeled_names['last_name'] = labeled_names['name'].apply(lambda x: x.split()[-1] if len(x.split()) > 1 else None)"
   ]
  },
  {
   "cell_type": "code",
   "execution_count": 11,
   "metadata": {
    "collapsed": false
   },
   "outputs": [],
   "source": [
    "labeled_names.fillna('', inplace=True)"
   ]
  },
  {
   "cell_type": "code",
   "execution_count": 12,
   "metadata": {
    "collapsed": true
   },
   "outputs": [],
   "source": [
    "#Note: These are useful for distinguishing between Muslim, Christian and Hindu names, but not for Hindu/Sikh/Jain/Buddhist names\n",
    "def gender_features(name):\n",
    "    name = name.lower()\n",
    "    first_name = name.split()[0]\n",
    "    last_name = name.split()[-1]\n",
    "    \n",
    "    first_name_first = first_name[0]\n",
    "    first_name_first_two = first_name[:2] if len(first_name) > 1 else None\n",
    "    first_name_first_three = first_name[:3] if len(first_name) > 2 else None\n",
    "    first_name_first_four = first_name[:4] if len(first_name) > 3 else None\n",
    "    first_name_first_five = first_name[:5] if len(first_name) > 4 else None\n",
    "    \n",
    "    first_name_last = first_name[-1]\n",
    "    first_name_last_two = first_name[-2:] if len(first_name) > 1 else None\n",
    "    first_name_last_three = first_name[-3:] if len(first_name) > 2 else None\n",
    "    first_name_last_four = first_name[-4:] if len(first_name) > 3 else None\n",
    "    first_name_last_five = first_name[-5:] if len(first_name) > 4 else None\n",
    "    \n",
    "    if first_name != last_name:\n",
    "        last_name_first = last_name[0]\n",
    "        last_name_first_two = last_name[:2] if len(last_name) > 1 else None\n",
    "        last_name_first_three = last_name[:3] if len(last_name) > 2 else None\n",
    "        last_name_first_four = last_name[:4] if len(last_name) > 3 else None\n",
    "        last_name_first_five = last_name[:5] if len(last_name) > 4 else None\n",
    "        \n",
    "        last_name_last = last_name[-1]\n",
    "        last_name_last_two = last_name[-2:] if len(last_name) > 1 else None\n",
    "        last_name_last_three = last_name[-3:] if len(last_name) > 2 else None\n",
    "        last_name_last_four = last_name[-4:] if len(last_name) > 3 else None\n",
    "        last_name_last_five = last_name[-5:] if len(last_name) > 4 else None\n",
    "    else:\n",
    "        last_name_first = None\n",
    "        last_name_first_two = None\n",
    "        last_name_first_three = None\n",
    "        last_name_first_four = None\n",
    "        last_name_first_five = None\n",
    "        \n",
    "        last_name_last = None\n",
    "        last_name_last_two = None\n",
    "        last_name_last_three = None\n",
    "        last_name_last_four = None\n",
    "        last_name_last_five = None\n",
    "    \n",
    "    features = {'first_name_first': first_name_first, 'first_name_first_two': first_name_first_two,\n",
    "                'first_name_first_three': first_name_first_three, 'first_name_first_four': first_name_first_four,\n",
    "                'first_name_first_five': first_name_first_five,\n",
    "                'first_name_last': first_name_last, 'first_name_last_two': first_name_last_two,\n",
    "                'first_name_last_three': first_name_last_three, 'first_name_last_four': first_name_last_four,\n",
    "                'first_name_last_five': first_name_last_five,\n",
    "                'last_name_first': last_name_first, 'last_name_first_two': last_name_first_two,\n",
    "                'last_name_first_three': last_name_first_three, 'last_name_first_four': last_name_first_four,\n",
    "                'last_name_last_five': last_name_first_five,\n",
    "                'last_name_last': last_name_last, 'last_name_last_two': last_name_last_two,\n",
    "                'last_name_last_three': last_name_last_three, 'last_name_last_four': last_name_last_four,\n",
    "                'last_name_last_five': last_name_last_five}\n",
    "    \n",
    "    return features"
   ]
  },
  {
   "cell_type": "code",
   "execution_count": 13,
   "metadata": {
    "collapsed": false
   },
   "outputs": [],
   "source": [
    "feature_sets = [(gender_features(i[0]), i[1]) for i in labeled_names[['first_name', 'gender']].values]"
   ]
  },
  {
   "cell_type": "code",
   "execution_count": 14,
   "metadata": {
    "collapsed": false
   },
   "outputs": [],
   "source": [
    "train_indices = random.sample(xrange(len(feature_sets)), int(0.8*len(feature_sets)))\n",
    "train_indices_set = set(train_indices)\n",
    "test_indices = [i for i in xrange(len(feature_sets)) if i not in train_indices_set]"
   ]
  },
  {
   "cell_type": "code",
   "execution_count": 15,
   "metadata": {
    "collapsed": false
   },
   "outputs": [],
   "source": [
    "train_set = [feature_sets[i] for i in train_indices]\n",
    "test_set = [feature_sets[i] for i in test_indices]"
   ]
  },
  {
   "cell_type": "code",
   "execution_count": 16,
   "metadata": {
    "collapsed": true
   },
   "outputs": [],
   "source": [
    "gender_classifier = nltk.NaiveBayesClassifier.train(train_set)"
   ]
  },
  {
   "cell_type": "code",
   "execution_count": 17,
   "metadata": {
    "collapsed": false
   },
   "outputs": [
    {
     "data": {
      "text/plain": [
       "0.8760336680448907"
      ]
     },
     "execution_count": 17,
     "metadata": {},
     "output_type": "execute_result"
    }
   ],
   "source": [
    "nltk.classify.accuracy(gender_classifier, test_set)"
   ]
  },
  {
   "cell_type": "code",
   "execution_count": 18,
   "metadata": {
    "collapsed": false
   },
   "outputs": [
    {
     "data": {
      "text/plain": [
       "0.8915623730941041"
      ]
     },
     "execution_count": 18,
     "metadata": {},
     "output_type": "execute_result"
    }
   ],
   "source": [
    "nltk.classify.accuracy(gender_classifier, train_set)"
   ]
  },
  {
   "cell_type": "code",
   "execution_count": 19,
   "metadata": {
    "collapsed": false
   },
   "outputs": [
    {
     "data": {
      "text/plain": [
       "{'female': 0.4357356576065635, 'male': 0.5642643423934361}"
      ]
     },
     "execution_count": 19,
     "metadata": {},
     "output_type": "execute_result"
    }
   ],
   "source": [
    "name = 'Aniket Deb'\n",
    "d = gender_classifier.prob_classify(gender_features(name)).__dict__['_prob_dict']\n",
    "{i: 2**d[i] for i in d}"
   ]
  },
  {
   "cell_type": "markdown",
   "metadata": {
    "collapsed": true
   },
   "source": [
    "### Religion Classification"
   ]
  },
  {
   "cell_type": "code",
   "execution_count": 22,
   "metadata": {
    "collapsed": false
   },
   "outputs": [],
   "source": [
    "names = pd.read_pickle('training_data/names.pkl').append(pd.read_pickle('training_data/names_df.pkl')).reset_index(drop=True)\n",
    "names = names[['Mother Tongue', 'Ethnicity', 'Religion', 'broad_religion', 'gender', 'name']]\n",
    "names['name'] = names['name'].apply(lambda x: x.replace('Dr ', '').replace('Mr ', '').replace('Dr. ', '').replace('Mr. ', '').replace('Ms ', '').replace('Ms. ', ''))\n",
    "names['broad_religion'] = names['broad_religion'].apply(lambda x: x.replace('Sikh', 'Hindu'))\n",
    "names['first_name'] = names['name'].apply(lambda x: x.split()[0] if len(x) > 0 else None)\n",
    "names['last_name'] = names['name'].apply(lambda x: x.split()[-1] if len(x) > 0 else None)\n",
    "names = names[(names.name.str.lower() != 'anonymous') & (names.name.str.lower() != 'abcdef')]\n",
    "names = names[names.first_name.notnull()]"
   ]
  },
  {
   "cell_type": "code",
   "execution_count": 23,
   "metadata": {
    "collapsed": false
   },
   "outputs": [],
   "source": [
    "#Note: These are useful for distinguishing between Muslim, Christian and Hindu names, but not for Hindu/Sikh/Jain/Buddhist names\n",
    "def religion_features(name):\n",
    "    name = name.lower()\n",
    "    first_name = name.split()[0]\n",
    "    last_name = name[len(first_name):].lstrip().rstrip()\n",
    "    \n",
    "    first_name_first = first_name[0]\n",
    "    first_name_first_two = first_name[:2] if len(first_name) > 1 else None\n",
    "    first_name_first_three = first_name[:3] if len(first_name) > 2 else None\n",
    "    first_name_first_four = first_name[:4] if len(first_name) > 3 else None\n",
    "    \n",
    "    first_name_last = first_name[-1]\n",
    "    first_name_last_two = first_name[-2:] if len(first_name) > 1 else None\n",
    "    first_name_last_three = first_name[-3:] if len(first_name) > 2 else None\n",
    "    first_name_last_four = first_name[-4:] if len(first_name) > 3 else None\n",
    "    \n",
    "    if first_name != last_name and len(last_name) > 0:\n",
    "        last_name_first = last_name[0]\n",
    "        last_name_first_two = last_name[:2] if len(last_name) > 1 else None\n",
    "        last_name_first_three = last_name[:3] if len(last_name) > 2 else None\n",
    "        last_name_first_four = last_name[:4] if len(last_name) > 3 else None\n",
    "        \n",
    "        last_name_last = last_name[-1]\n",
    "        last_name_last_two = last_name[-2:] if len(last_name) > 1 else None\n",
    "        last_name_last_three = last_name[-3:] if len(last_name) > 2 else None\n",
    "        last_name_last_four = last_name[-4:] if len(last_name) > 3 else None\n",
    "    else:\n",
    "        last_name_first = None\n",
    "        last_name_first_two = None\n",
    "        last_name_first_three = None\n",
    "        last_name_first_four = None\n",
    "        \n",
    "        last_name_last = None\n",
    "        last_name_last_two = None\n",
    "        last_name_last_three = None\n",
    "        last_name_last_four = None\n",
    "    \n",
    "    features = {'prop_%s'%i: 1.*name.count(i)/len(name) for i in 'abcdefghijklmnopqrstuvwxyz'}\n",
    "    features.update({'first_name_first': first_name_first, 'first_name_first_two': first_name_first_two,'first_name_first_three': first_name_first_three, 'first_name_first_four': first_name_first_four,\n",
    "               'first_name_last': first_name_last, 'first_name_last_two': first_name_last_two,\n",
    "               'first_name_last_three': first_name_last_three, 'first_name_last_four': first_name_last_four,\n",
    "               'last_name_first': last_name_first, 'last_name_first_two': last_name_first_two,\n",
    "               'last_name_first_three': last_name_first_three, 'last_name_first_four': last_name_first_four,\n",
    "               'last_name_last': last_name_last, 'last_name_last_two': last_name_last_two,\n",
    "               'last_name_last_three': last_name_last_three, 'last_name_last_four': last_name_last_four\n",
    "               })\n",
    "    \n",
    "    return features"
   ]
  },
  {
   "cell_type": "code",
   "execution_count": 24,
   "metadata": {
    "collapsed": false
   },
   "outputs": [],
   "source": [
    "feature_sets = [(religion_features(i[0]), i[1]) for i in names[['name', 'broad_religion']].values]\n",
    "train_indices = random.sample(xrange(len(feature_sets)), int(0.8*len(feature_sets)))\n",
    "train_indices_set = set(train_indices)\n",
    "test_indices = [i for i in xrange(len(feature_sets)) if i not in train_indices_set]"
   ]
  },
  {
   "cell_type": "code",
   "execution_count": 25,
   "metadata": {
    "collapsed": true
   },
   "outputs": [],
   "source": [
    "train_set = [feature_sets[i] for i in train_indices]\n",
    "test_set = [feature_sets[i] for i in test_indices]\n",
    "religion_classifier = nltk.NaiveBayesClassifier.train(train_set)"
   ]
  },
  {
   "cell_type": "code",
   "execution_count": 26,
   "metadata": {
    "collapsed": false
   },
   "outputs": [
    {
     "data": {
      "text/plain": [
       "0.9317535545023696"
      ]
     },
     "execution_count": 26,
     "metadata": {},
     "output_type": "execute_result"
    }
   ],
   "source": [
    "nltk.classify.accuracy(religion_classifier, test_set)"
   ]
  },
  {
   "cell_type": "code",
   "execution_count": 27,
   "metadata": {
    "collapsed": false
   },
   "outputs": [
    {
     "data": {
      "text/plain": [
       "0.9537212609623134"
      ]
     },
     "execution_count": 27,
     "metadata": {},
     "output_type": "execute_result"
    }
   ],
   "source": [
    "nltk.classify.accuracy(religion_classifier, train_set)"
   ]
  },
  {
   "cell_type": "code",
   "execution_count": 28,
   "metadata": {
    "collapsed": false
   },
   "outputs": [
    {
     "data": {
      "text/plain": [
       "{u'Christian': 2.1598370594291562e-08,\n",
       " 'Hindu': 9.589596574701158e-10,\n",
       " u'Muslim': 0.9999999774426755}"
      ]
     },
     "execution_count": 28,
     "metadata": {},
     "output_type": "execute_result"
    }
   ],
   "source": [
    "name = 'Ansar Kadri'\n",
    "d = religion_classifier.prob_classify(religion_features(name)).__dict__['_prob_dict']\n",
    "{i: 2**d[i] for i in d}"
   ]
  },
  {
   "cell_type": "markdown",
   "metadata": {
    "collapsed": true
   },
   "source": [
    "### Ethnicity Classification"
   ]
  },
  {
   "cell_type": "markdown",
   "metadata": {},
   "source": [
    "It's hard to differentiate between Tamil, Telugu, Kannada and Malayalam names. Might be good to put them as 'South Indian'."
   ]
  },
  {
   "cell_type": "code",
   "execution_count": 29,
   "metadata": {
    "collapsed": false
   },
   "outputs": [],
   "source": [
    "names['Mother Tongue'] = names['Mother Tongue'].apply(lambda x: 'South Indian' if x in ['Telugu', 'Kannada', 'Malayalam', 'Tamil'] else x)\n",
    "names['Mother Tongue'] = names['Mother Tongue'].apply(lambda x: 'North Indian' if x in ['Kashmiri', 'Dogri', 'Hindi', 'Urdu', 'Sindhi', 'Bhojpuri'] else x)\n",
    "names['Mother Tongue'] = names['Mother Tongue'].apply(lambda x: 'East Indian' if x in ['Oriya', 'Bengali', 'Assamese'] else x)\n",
    "names['Mother Tongue'] = names['Mother Tongue'].apply(lambda x: 'West Indian' if x in ['Marathi', 'Gujarati'] else x)"
   ]
  },
  {
   "cell_type": "code",
   "execution_count": 30,
   "metadata": {
    "collapsed": false
   },
   "outputs": [],
   "source": [
    "def ethnicity_features(name, kind='last'):\n",
    "    if kind == 'last':\n",
    "        if name is not None:\n",
    "            name = name.split()[-1]\n",
    "        else:\n",
    "            return {'name_first': None, 'name_first_two': None, 'name_first_three': None, 'name_first_four': None,\n",
    "                'name_last': None, 'name_last_two': None, 'name_last_three': None, 'name_last_four': None,\n",
    "                'len_name': 0}\n",
    "    elif kind == 'first':\n",
    "        name = name.split()[0]\n",
    "    name = name.lower()\n",
    "    \n",
    "    name_first = name[0]\n",
    "    name_first_two = name[:2]# if len(name) > 1 else None\n",
    "    name_first_three = name[:3]# if len(name) > 2 else None\n",
    "    name_first_four = name[:4]# if len(name) > 3 else None\n",
    "\n",
    "    name_last = name[-1]\n",
    "    name_last_two = name[-2:]# if len(name) > 1 else None\n",
    "    name_last_three = name[-3:]# if len(name) > 2 else None\n",
    "    name_last_four = name[-4:]# if len(name) > 3 else None\n",
    "    \n",
    "    features = {'name_first': name_first, 'name_first_two': name_first_two,\n",
    "                'name_first_three': name_first_three, 'name_first_four': name_first_four,\n",
    "                'name_last': name_last, 'name_last_two': name_last_two,\n",
    "                'name_last_three': name_last_three, 'name_last_four': name_last_four,\n",
    "                'len_name': len(name)}\n",
    "    \n",
    "    return features"
   ]
  },
  {
   "cell_type": "code",
   "execution_count": 31,
   "metadata": {
    "collapsed": false
   },
   "outputs": [],
   "source": [
    "last_name_feature_sets = [(ethnicity_features(i[0], kind='last'), i[1]) for i in names[~names['Mother Tongue'].isin(['Konkani', 'English', 'Others', 'Kutchi'])][['last_name', 'Mother Tongue']].values]\n",
    "train_indices = random.sample(xrange(len(last_name_feature_sets)), int(0.8*len(last_name_feature_sets)))\n",
    "train_indices_set = set(train_indices)\n",
    "test_indices = [i for i in xrange(len(last_name_feature_sets)) if i not in train_indices_set]\n",
    "train_set = [last_name_feature_sets[i] for i in train_indices]\n",
    "test_set = [last_name_feature_sets[i] for i in test_indices]\n",
    "ethnicity_classifier_last_name = nltk.NaiveBayesClassifier.train(train_set)"
   ]
  },
  {
   "cell_type": "code",
   "execution_count": 32,
   "metadata": {
    "collapsed": true
   },
   "outputs": [],
   "source": [
    "first_name_feature_sets = [(ethnicity_features(i[0], kind='first'), i[1]) for i in names[~names['Mother Tongue'].isin(['Konkani', 'English', 'Others', 'Kutchi'])][['first_name', 'Mother Tongue']].values]\n",
    "train_indices = random.sample(xrange(len(first_name_feature_sets)), int(0.8*len(first_name_feature_sets)))\n",
    "train_indices_set = set(train_indices)\n",
    "test_indices = [i for i in xrange(len(first_name_feature_sets)) if i not in train_indices_set]\n",
    "train_set = [first_name_feature_sets[i] for i in train_indices]\n",
    "test_set = [first_name_feature_sets[i] for i in test_indices]\n",
    "ethnicity_classifier_first_name = nltk.NaiveBayesClassifier.train(train_set)"
   ]
  },
  {
   "cell_type": "code",
   "execution_count": 33,
   "metadata": {
    "collapsed": false
   },
   "outputs": [
    {
     "data": {
      "text/plain": [
       "0.5068785578747628"
      ]
     },
     "execution_count": 33,
     "metadata": {},
     "output_type": "execute_result"
    }
   ],
   "source": [
    "nltk.classify.accuracy(ethnicity_classifier_last_name, test_set)"
   ]
  },
  {
   "cell_type": "code",
   "execution_count": 34,
   "metadata": {
    "collapsed": false
   },
   "outputs": [
    {
     "data": {
      "text/plain": [
       "0.5246679316888045"
      ]
     },
     "execution_count": 34,
     "metadata": {},
     "output_type": "execute_result"
    }
   ],
   "source": [
    "nltk.classify.accuracy(ethnicity_classifier_last_name, train_set)"
   ]
  },
  {
   "cell_type": "code",
   "execution_count": 35,
   "metadata": {
    "collapsed": false
   },
   "outputs": [
    {
     "data": {
      "text/plain": [
       "0.648719165085389"
      ]
     },
     "execution_count": 35,
     "metadata": {},
     "output_type": "execute_result"
    }
   ],
   "source": [
    "nltk.classify.accuracy(ethnicity_classifier_first_name, test_set)"
   ]
  },
  {
   "cell_type": "code",
   "execution_count": 36,
   "metadata": {
    "collapsed": false
   },
   "outputs": [
    {
     "data": {
      "text/plain": [
       "0.7077205882352942"
      ]
     },
     "execution_count": 36,
     "metadata": {},
     "output_type": "execute_result"
    }
   ],
   "source": [
    "nltk.classify.accuracy(ethnicity_classifier_first_name, train_set)"
   ]
  },
  {
   "cell_type": "code",
   "execution_count": 40,
   "metadata": {
    "collapsed": true
   },
   "outputs": [],
   "source": [
    "def get_likely_ethnicity(f, l, confounding_surname=False):\n",
    "    max_l = max(l, key=l.get)\n",
    "    max_f = max(f, key=f.get)\n",
    "    if not confounding_surname:\n",
    "        comb = {i: 0.25*f[i] + 0.75*l[i] for i in f}\n",
    "    else:\n",
    "        comb = {i: 0.65*f[i] + 0.35*l[i] for i in f}\n",
    "    max_comb = max(comb.values())\n",
    "    if max_comb > 0.8:\n",
    "        conf = 'Confident'\n",
    "    elif max_comb > 0.5:\n",
    "        conf = 'Somewhat Confident'\n",
    "    else:\n",
    "        conf = 'Not Confident'\n",
    "    if max(l.values()) > 0.98 and not confounding_surname:\n",
    "        return max_l, comb, 'Very Confident'\n",
    "    else:\n",
    "        if max_l == max_f:\n",
    "            return max_l, comb, conf\n",
    "        else:\n",
    "            return max(comb, key=comb.get), comb, conf"
   ]
  },
  {
   "cell_type": "code",
   "execution_count": 43,
   "metadata": {
    "collapsed": false
   },
   "outputs": [
    {
     "name": "stdout",
     "output_type": "stream",
     "text": [
      "[('West Indian', 0.9754985095171822), ('South Indian', 0.019688959068685816), ('North Indian', 0.004173894672426308), (u'Punjabi', 0.0005825211122566047), ('East Indian', 5.611562945147949e-05)]\n",
      "[('North Indian', 0.7152946124510926), ('West Indian', 0.284636837455821), (u'Punjabi', 5.223433796380833e-05), ('East Indian', 9.922652964244658e-06), ('South Indian', 6.3931021559281975e-06)]\n",
      "[('North Indian', 0.537514433006426), ('West Indian', 0.4573522554711613), ('South Indian', 0.004927034593788401), (u'Punjabi', 0.00018480603153700744), ('East Indian', 2.1470897086053367e-05)]\n",
      "Ethnicity: North Indian\n",
      "Confidence: Somewhat Confident\n"
     ]
    }
   ],
   "source": [
    "name = 'Pankhuri Goel'\n",
    "d = ethnicity_classifier_first_name.prob_classify(ethnicity_features(name, kind='first')).__dict__['_prob_dict']\n",
    "first_name_stats = {i: 2**d[i] for i in d}\n",
    "\n",
    "d = ethnicity_classifier_last_name.prob_classify(ethnicity_features(name, kind='last')).__dict__['_prob_dict']\n",
    "last_name_stats = {i: 2**d[i] for i in d}\n",
    "\n",
    "is_counfounding = {'Kumar', 'Singh'}\n",
    "likely_ethnicity, comb_prob, conf = get_likely_ethnicity(first_name_stats, last_name_stats, \n",
    "                                                         confounding_surname = name.split()[-1] in is_counfounding)\n",
    "\n",
    "print sorted(first_name_stats.iteritems(), reverse=True, key=lambda x: x[1])\n",
    "print sorted(last_name_stats.iteritems(), reverse=True, key=lambda x: x[1])\n",
    "print sorted(comb_prob.iteritems(), reverse=True, key=lambda x: x[1])\n",
    "\n",
    "print 'Ethnicity:', likely_ethnicity\n",
    "print 'Confidence:', conf"
   ]
  },
  {
   "cell_type": "markdown",
   "metadata": {},
   "source": [
    "Performance is bad for short surnames like Wahi, Bhat, Vig, Saran, Kanoi, Dewan, Nehru etc. Only major flaw right now.\n",
    "\n",
    "- get more and better data (!)\n",
    "- change feature definitions to take care of these 'edge' cases"
   ]
  },
  {
   "cell_type": "markdown",
   "metadata": {
    "collapsed": true
   },
   "source": [
    "Can use a better method for get ethnicity (random forest?) instead of manually defining things"
   ]
  },
  {
   "cell_type": "code",
   "execution_count": 44,
   "metadata": {
    "collapsed": true
   },
   "outputs": [],
   "source": [
    "import pickle"
   ]
  },
  {
   "cell_type": "code",
   "execution_count": 45,
   "metadata": {
    "collapsed": true
   },
   "outputs": [],
   "source": [
    "pickle.dump(gender_classifier, open('models/gender_classifier.pkl', 'wb'))"
   ]
  },
  {
   "cell_type": "code",
   "execution_count": 46,
   "metadata": {
    "collapsed": true
   },
   "outputs": [],
   "source": [
    "pickle.dump(religion_classifier, open('models/religion_classifier.pkl', 'wb'))"
   ]
  },
  {
   "cell_type": "code",
   "execution_count": 47,
   "metadata": {
    "collapsed": true
   },
   "outputs": [],
   "source": [
    "pickle.dump(ethnicity_classifier_last_name, open('models/ethnicity_classifier_last_name.pkl', 'wb'))"
   ]
  },
  {
   "cell_type": "code",
   "execution_count": 48,
   "metadata": {
    "collapsed": true
   },
   "outputs": [],
   "source": [
    "pickle.dump(ethnicity_classifier_first_name, open('models/ethnicity_classifier_first_name.pkl', 'wb'))"
   ]
  },
  {
   "cell_type": "code",
   "execution_count": null,
   "metadata": {
    "collapsed": true
   },
   "outputs": [],
   "source": []
  }
 ],
 "metadata": {
  "kernelspec": {
   "display_name": "Python 2",
   "language": "python",
   "name": "python2"
  },
  "language_info": {
   "codemirror_mode": {
    "name": "ipython",
    "version": 2
   },
   "file_extension": ".py",
   "mimetype": "text/x-python",
   "name": "python",
   "nbconvert_exporter": "python",
   "pygments_lexer": "ipython2",
   "version": "2.7.9"
  }
 },
 "nbformat": 4,
 "nbformat_minor": 0
}
